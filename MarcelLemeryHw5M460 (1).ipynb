{
  "nbformat": 4,
  "nbformat_minor": 0,
  "metadata": {
    "colab": {
      "provenance": []
    },
    "kernelspec": {
      "name": "python3",
      "display_name": "Python 3"
    },
    "language_info": {
      "name": "python"
    }
  },
  "cells": [
    {
      "cell_type": "markdown",
      "source": [
        "This is Homework assignment 5 for Math460 by Marcel Lemery."
      ],
      "metadata": {
        "id": "GOxSTz3VyIKj"
      }
    },
    {
      "cell_type": "code",
      "execution_count": 77,
      "metadata": {
        "id": "LaFecW2OvPZX"
      },
      "outputs": [],
      "source": [
        "import numpy as np\n",
        "import pandas as pd"
      ]
    },
    {
      "cell_type": "code",
      "source": [
        "import matplotlib.pyplot as plt #for the graphs\n",
        "from sklearn.datasets import fetch_openml  # this allows for data to downloaded\n",
        "from sklearn.neural_network import MLPClassifier"
      ],
      "metadata": {
        "id": "VGRZc3uOhwo5"
      },
      "execution_count": 78,
      "outputs": []
    },
    {
      "cell_type": "code",
      "source": [
        "X, y = fetch_openml('mnist_784',version=1, return_X_y=True)"
      ],
      "metadata": {
        "id": "jVitk0W1fwkZ"
      },
      "execution_count": 79,
      "outputs": []
    },
    {
      "cell_type": "code",
      "source": [
        "X.shape"
      ],
      "metadata": {
        "colab": {
          "base_uri": "https://localhost:8080/"
        },
        "id": "hkvWCCojh7qo",
        "outputId": "63b69b6b-4040-424e-ac96-dfeb6c0cf46c"
      },
      "execution_count": 80,
      "outputs": [
        {
          "output_type": "execute_result",
          "data": {
            "text/plain": [
              "(70000, 784)"
            ]
          },
          "metadata": {},
          "execution_count": 80
        }
      ]
    },
    {
      "cell_type": "code",
      "source": [
        "y.shape"
      ],
      "metadata": {
        "colab": {
          "base_uri": "https://localhost:8080/"
        },
        "id": "ZFsfCkuwiAyQ",
        "outputId": "ca6a00b8-101b-4c5b-8844-3e8976e4aba7"
      },
      "execution_count": 81,
      "outputs": [
        {
          "output_type": "execute_result",
          "data": {
            "text/plain": [
              "(70000,)"
            ]
          },
          "metadata": {},
          "execution_count": 81
        }
      ]
    },
    {
      "cell_type": "code",
      "source": [
        "X.head()"
      ],
      "metadata": {
        "colab": {
          "base_uri": "https://localhost:8080/",
          "height": 256
        },
        "id": "wTSV2KPFi-2F",
        "outputId": "bf89ab2d-6c31-4616-af2c-bad905a495fd"
      },
      "execution_count": 82,
      "outputs": [
        {
          "output_type": "execute_result",
          "data": {
            "text/plain": [
              "   pixel1  pixel2  pixel3  pixel4  pixel5  pixel6  pixel7  pixel8  pixel9  \\\n",
              "0     0.0     0.0     0.0     0.0     0.0     0.0     0.0     0.0     0.0   \n",
              "1     0.0     0.0     0.0     0.0     0.0     0.0     0.0     0.0     0.0   \n",
              "2     0.0     0.0     0.0     0.0     0.0     0.0     0.0     0.0     0.0   \n",
              "3     0.0     0.0     0.0     0.0     0.0     0.0     0.0     0.0     0.0   \n",
              "4     0.0     0.0     0.0     0.0     0.0     0.0     0.0     0.0     0.0   \n",
              "\n",
              "   pixel10  ...  pixel775  pixel776  pixel777  pixel778  pixel779  pixel780  \\\n",
              "0      0.0  ...       0.0       0.0       0.0       0.0       0.0       0.0   \n",
              "1      0.0  ...       0.0       0.0       0.0       0.0       0.0       0.0   \n",
              "2      0.0  ...       0.0       0.0       0.0       0.0       0.0       0.0   \n",
              "3      0.0  ...       0.0       0.0       0.0       0.0       0.0       0.0   \n",
              "4      0.0  ...       0.0       0.0       0.0       0.0       0.0       0.0   \n",
              "\n",
              "   pixel781  pixel782  pixel783  pixel784  \n",
              "0       0.0       0.0       0.0       0.0  \n",
              "1       0.0       0.0       0.0       0.0  \n",
              "2       0.0       0.0       0.0       0.0  \n",
              "3       0.0       0.0       0.0       0.0  \n",
              "4       0.0       0.0       0.0       0.0  \n",
              "\n",
              "[5 rows x 784 columns]"
            ],
            "text/html": [
              "\n",
              "  <div id=\"df-708329d5-58ac-467d-8e9f-69a60ae12e5e\" class=\"colab-df-container\">\n",
              "    <div>\n",
              "<style scoped>\n",
              "    .dataframe tbody tr th:only-of-type {\n",
              "        vertical-align: middle;\n",
              "    }\n",
              "\n",
              "    .dataframe tbody tr th {\n",
              "        vertical-align: top;\n",
              "    }\n",
              "\n",
              "    .dataframe thead th {\n",
              "        text-align: right;\n",
              "    }\n",
              "</style>\n",
              "<table border=\"1\" class=\"dataframe\">\n",
              "  <thead>\n",
              "    <tr style=\"text-align: right;\">\n",
              "      <th></th>\n",
              "      <th>pixel1</th>\n",
              "      <th>pixel2</th>\n",
              "      <th>pixel3</th>\n",
              "      <th>pixel4</th>\n",
              "      <th>pixel5</th>\n",
              "      <th>pixel6</th>\n",
              "      <th>pixel7</th>\n",
              "      <th>pixel8</th>\n",
              "      <th>pixel9</th>\n",
              "      <th>pixel10</th>\n",
              "      <th>...</th>\n",
              "      <th>pixel775</th>\n",
              "      <th>pixel776</th>\n",
              "      <th>pixel777</th>\n",
              "      <th>pixel778</th>\n",
              "      <th>pixel779</th>\n",
              "      <th>pixel780</th>\n",
              "      <th>pixel781</th>\n",
              "      <th>pixel782</th>\n",
              "      <th>pixel783</th>\n",
              "      <th>pixel784</th>\n",
              "    </tr>\n",
              "  </thead>\n",
              "  <tbody>\n",
              "    <tr>\n",
              "      <th>0</th>\n",
              "      <td>0.0</td>\n",
              "      <td>0.0</td>\n",
              "      <td>0.0</td>\n",
              "      <td>0.0</td>\n",
              "      <td>0.0</td>\n",
              "      <td>0.0</td>\n",
              "      <td>0.0</td>\n",
              "      <td>0.0</td>\n",
              "      <td>0.0</td>\n",
              "      <td>0.0</td>\n",
              "      <td>...</td>\n",
              "      <td>0.0</td>\n",
              "      <td>0.0</td>\n",
              "      <td>0.0</td>\n",
              "      <td>0.0</td>\n",
              "      <td>0.0</td>\n",
              "      <td>0.0</td>\n",
              "      <td>0.0</td>\n",
              "      <td>0.0</td>\n",
              "      <td>0.0</td>\n",
              "      <td>0.0</td>\n",
              "    </tr>\n",
              "    <tr>\n",
              "      <th>1</th>\n",
              "      <td>0.0</td>\n",
              "      <td>0.0</td>\n",
              "      <td>0.0</td>\n",
              "      <td>0.0</td>\n",
              "      <td>0.0</td>\n",
              "      <td>0.0</td>\n",
              "      <td>0.0</td>\n",
              "      <td>0.0</td>\n",
              "      <td>0.0</td>\n",
              "      <td>0.0</td>\n",
              "      <td>...</td>\n",
              "      <td>0.0</td>\n",
              "      <td>0.0</td>\n",
              "      <td>0.0</td>\n",
              "      <td>0.0</td>\n",
              "      <td>0.0</td>\n",
              "      <td>0.0</td>\n",
              "      <td>0.0</td>\n",
              "      <td>0.0</td>\n",
              "      <td>0.0</td>\n",
              "      <td>0.0</td>\n",
              "    </tr>\n",
              "    <tr>\n",
              "      <th>2</th>\n",
              "      <td>0.0</td>\n",
              "      <td>0.0</td>\n",
              "      <td>0.0</td>\n",
              "      <td>0.0</td>\n",
              "      <td>0.0</td>\n",
              "      <td>0.0</td>\n",
              "      <td>0.0</td>\n",
              "      <td>0.0</td>\n",
              "      <td>0.0</td>\n",
              "      <td>0.0</td>\n",
              "      <td>...</td>\n",
              "      <td>0.0</td>\n",
              "      <td>0.0</td>\n",
              "      <td>0.0</td>\n",
              "      <td>0.0</td>\n",
              "      <td>0.0</td>\n",
              "      <td>0.0</td>\n",
              "      <td>0.0</td>\n",
              "      <td>0.0</td>\n",
              "      <td>0.0</td>\n",
              "      <td>0.0</td>\n",
              "    </tr>\n",
              "    <tr>\n",
              "      <th>3</th>\n",
              "      <td>0.0</td>\n",
              "      <td>0.0</td>\n",
              "      <td>0.0</td>\n",
              "      <td>0.0</td>\n",
              "      <td>0.0</td>\n",
              "      <td>0.0</td>\n",
              "      <td>0.0</td>\n",
              "      <td>0.0</td>\n",
              "      <td>0.0</td>\n",
              "      <td>0.0</td>\n",
              "      <td>...</td>\n",
              "      <td>0.0</td>\n",
              "      <td>0.0</td>\n",
              "      <td>0.0</td>\n",
              "      <td>0.0</td>\n",
              "      <td>0.0</td>\n",
              "      <td>0.0</td>\n",
              "      <td>0.0</td>\n",
              "      <td>0.0</td>\n",
              "      <td>0.0</td>\n",
              "      <td>0.0</td>\n",
              "    </tr>\n",
              "    <tr>\n",
              "      <th>4</th>\n",
              "      <td>0.0</td>\n",
              "      <td>0.0</td>\n",
              "      <td>0.0</td>\n",
              "      <td>0.0</td>\n",
              "      <td>0.0</td>\n",
              "      <td>0.0</td>\n",
              "      <td>0.0</td>\n",
              "      <td>0.0</td>\n",
              "      <td>0.0</td>\n",
              "      <td>0.0</td>\n",
              "      <td>...</td>\n",
              "      <td>0.0</td>\n",
              "      <td>0.0</td>\n",
              "      <td>0.0</td>\n",
              "      <td>0.0</td>\n",
              "      <td>0.0</td>\n",
              "      <td>0.0</td>\n",
              "      <td>0.0</td>\n",
              "      <td>0.0</td>\n",
              "      <td>0.0</td>\n",
              "      <td>0.0</td>\n",
              "    </tr>\n",
              "  </tbody>\n",
              "</table>\n",
              "<p>5 rows × 784 columns</p>\n",
              "</div>\n",
              "    <div class=\"colab-df-buttons\">\n",
              "\n",
              "  <div class=\"colab-df-container\">\n",
              "    <button class=\"colab-df-convert\" onclick=\"convertToInteractive('df-708329d5-58ac-467d-8e9f-69a60ae12e5e')\"\n",
              "            title=\"Convert this dataframe to an interactive table.\"\n",
              "            style=\"display:none;\">\n",
              "\n",
              "  <svg xmlns=\"http://www.w3.org/2000/svg\" height=\"24px\" viewBox=\"0 -960 960 960\">\n",
              "    <path d=\"M120-120v-720h720v720H120Zm60-500h600v-160H180v160Zm220 220h160v-160H400v160Zm0 220h160v-160H400v160ZM180-400h160v-160H180v160Zm440 0h160v-160H620v160ZM180-180h160v-160H180v160Zm440 0h160v-160H620v160Z\"/>\n",
              "  </svg>\n",
              "    </button>\n",
              "\n",
              "  <style>\n",
              "    .colab-df-container {\n",
              "      display:flex;\n",
              "      gap: 12px;\n",
              "    }\n",
              "\n",
              "    .colab-df-convert {\n",
              "      background-color: #E8F0FE;\n",
              "      border: none;\n",
              "      border-radius: 50%;\n",
              "      cursor: pointer;\n",
              "      display: none;\n",
              "      fill: #1967D2;\n",
              "      height: 32px;\n",
              "      padding: 0 0 0 0;\n",
              "      width: 32px;\n",
              "    }\n",
              "\n",
              "    .colab-df-convert:hover {\n",
              "      background-color: #E2EBFA;\n",
              "      box-shadow: 0px 1px 2px rgba(60, 64, 67, 0.3), 0px 1px 3px 1px rgba(60, 64, 67, 0.15);\n",
              "      fill: #174EA6;\n",
              "    }\n",
              "\n",
              "    .colab-df-buttons div {\n",
              "      margin-bottom: 4px;\n",
              "    }\n",
              "\n",
              "    [theme=dark] .colab-df-convert {\n",
              "      background-color: #3B4455;\n",
              "      fill: #D2E3FC;\n",
              "    }\n",
              "\n",
              "    [theme=dark] .colab-df-convert:hover {\n",
              "      background-color: #434B5C;\n",
              "      box-shadow: 0px 1px 3px 1px rgba(0, 0, 0, 0.15);\n",
              "      filter: drop-shadow(0px 1px 2px rgba(0, 0, 0, 0.3));\n",
              "      fill: #FFFFFF;\n",
              "    }\n",
              "  </style>\n",
              "\n",
              "    <script>\n",
              "      const buttonEl =\n",
              "        document.querySelector('#df-708329d5-58ac-467d-8e9f-69a60ae12e5e button.colab-df-convert');\n",
              "      buttonEl.style.display =\n",
              "        google.colab.kernel.accessAllowed ? 'block' : 'none';\n",
              "\n",
              "      async function convertToInteractive(key) {\n",
              "        const element = document.querySelector('#df-708329d5-58ac-467d-8e9f-69a60ae12e5e');\n",
              "        const dataTable =\n",
              "          await google.colab.kernel.invokeFunction('convertToInteractive',\n",
              "                                                    [key], {});\n",
              "        if (!dataTable) return;\n",
              "\n",
              "        const docLinkHtml = 'Like what you see? Visit the ' +\n",
              "          '<a target=\"_blank\" href=https://colab.research.google.com/notebooks/data_table.ipynb>data table notebook</a>'\n",
              "          + ' to learn more about interactive tables.';\n",
              "        element.innerHTML = '';\n",
              "        dataTable['output_type'] = 'display_data';\n",
              "        await google.colab.output.renderOutput(dataTable, element);\n",
              "        const docLink = document.createElement('div');\n",
              "        docLink.innerHTML = docLinkHtml;\n",
              "        element.appendChild(docLink);\n",
              "      }\n",
              "    </script>\n",
              "  </div>\n",
              "\n",
              "\n",
              "<div id=\"df-c1b94016-70a0-4907-9089-59afd7555b21\">\n",
              "  <button class=\"colab-df-quickchart\" onclick=\"quickchart('df-c1b94016-70a0-4907-9089-59afd7555b21')\"\n",
              "            title=\"Suggest charts\"\n",
              "            style=\"display:none;\">\n",
              "\n",
              "<svg xmlns=\"http://www.w3.org/2000/svg\" height=\"24px\"viewBox=\"0 0 24 24\"\n",
              "     width=\"24px\">\n",
              "    <g>\n",
              "        <path d=\"M19 3H5c-1.1 0-2 .9-2 2v14c0 1.1.9 2 2 2h14c1.1 0 2-.9 2-2V5c0-1.1-.9-2-2-2zM9 17H7v-7h2v7zm4 0h-2V7h2v10zm4 0h-2v-4h2v4z\"/>\n",
              "    </g>\n",
              "</svg>\n",
              "  </button>\n",
              "\n",
              "<style>\n",
              "  .colab-df-quickchart {\n",
              "      --bg-color: #E8F0FE;\n",
              "      --fill-color: #1967D2;\n",
              "      --hover-bg-color: #E2EBFA;\n",
              "      --hover-fill-color: #174EA6;\n",
              "      --disabled-fill-color: #AAA;\n",
              "      --disabled-bg-color: #DDD;\n",
              "  }\n",
              "\n",
              "  [theme=dark] .colab-df-quickchart {\n",
              "      --bg-color: #3B4455;\n",
              "      --fill-color: #D2E3FC;\n",
              "      --hover-bg-color: #434B5C;\n",
              "      --hover-fill-color: #FFFFFF;\n",
              "      --disabled-bg-color: #3B4455;\n",
              "      --disabled-fill-color: #666;\n",
              "  }\n",
              "\n",
              "  .colab-df-quickchart {\n",
              "    background-color: var(--bg-color);\n",
              "    border: none;\n",
              "    border-radius: 50%;\n",
              "    cursor: pointer;\n",
              "    display: none;\n",
              "    fill: var(--fill-color);\n",
              "    height: 32px;\n",
              "    padding: 0;\n",
              "    width: 32px;\n",
              "  }\n",
              "\n",
              "  .colab-df-quickchart:hover {\n",
              "    background-color: var(--hover-bg-color);\n",
              "    box-shadow: 0 1px 2px rgba(60, 64, 67, 0.3), 0 1px 3px 1px rgba(60, 64, 67, 0.15);\n",
              "    fill: var(--button-hover-fill-color);\n",
              "  }\n",
              "\n",
              "  .colab-df-quickchart-complete:disabled,\n",
              "  .colab-df-quickchart-complete:disabled:hover {\n",
              "    background-color: var(--disabled-bg-color);\n",
              "    fill: var(--disabled-fill-color);\n",
              "    box-shadow: none;\n",
              "  }\n",
              "\n",
              "  .colab-df-spinner {\n",
              "    border: 2px solid var(--fill-color);\n",
              "    border-color: transparent;\n",
              "    border-bottom-color: var(--fill-color);\n",
              "    animation:\n",
              "      spin 1s steps(1) infinite;\n",
              "  }\n",
              "\n",
              "  @keyframes spin {\n",
              "    0% {\n",
              "      border-color: transparent;\n",
              "      border-bottom-color: var(--fill-color);\n",
              "      border-left-color: var(--fill-color);\n",
              "    }\n",
              "    20% {\n",
              "      border-color: transparent;\n",
              "      border-left-color: var(--fill-color);\n",
              "      border-top-color: var(--fill-color);\n",
              "    }\n",
              "    30% {\n",
              "      border-color: transparent;\n",
              "      border-left-color: var(--fill-color);\n",
              "      border-top-color: var(--fill-color);\n",
              "      border-right-color: var(--fill-color);\n",
              "    }\n",
              "    40% {\n",
              "      border-color: transparent;\n",
              "      border-right-color: var(--fill-color);\n",
              "      border-top-color: var(--fill-color);\n",
              "    }\n",
              "    60% {\n",
              "      border-color: transparent;\n",
              "      border-right-color: var(--fill-color);\n",
              "    }\n",
              "    80% {\n",
              "      border-color: transparent;\n",
              "      border-right-color: var(--fill-color);\n",
              "      border-bottom-color: var(--fill-color);\n",
              "    }\n",
              "    90% {\n",
              "      border-color: transparent;\n",
              "      border-bottom-color: var(--fill-color);\n",
              "    }\n",
              "  }\n",
              "</style>\n",
              "\n",
              "  <script>\n",
              "    async function quickchart(key) {\n",
              "      const quickchartButtonEl =\n",
              "        document.querySelector('#' + key + ' button');\n",
              "      quickchartButtonEl.disabled = true;  // To prevent multiple clicks.\n",
              "      quickchartButtonEl.classList.add('colab-df-spinner');\n",
              "      try {\n",
              "        const charts = await google.colab.kernel.invokeFunction(\n",
              "            'suggestCharts', [key], {});\n",
              "      } catch (error) {\n",
              "        console.error('Error during call to suggestCharts:', error);\n",
              "      }\n",
              "      quickchartButtonEl.classList.remove('colab-df-spinner');\n",
              "      quickchartButtonEl.classList.add('colab-df-quickchart-complete');\n",
              "    }\n",
              "    (() => {\n",
              "      let quickchartButtonEl =\n",
              "        document.querySelector('#df-c1b94016-70a0-4907-9089-59afd7555b21 button');\n",
              "      quickchartButtonEl.style.display =\n",
              "        google.colab.kernel.accessAllowed ? 'block' : 'none';\n",
              "    })();\n",
              "  </script>\n",
              "</div>\n",
              "\n",
              "    </div>\n",
              "  </div>\n"
            ],
            "application/vnd.google.colaboratory.intrinsic+json": {
              "type": "dataframe",
              "variable_name": "X"
            }
          },
          "metadata": {},
          "execution_count": 82
        }
      ]
    },
    {
      "cell_type": "code",
      "source": [
        "X_print= np.array(X, dtype='uint8')"
      ],
      "metadata": {
        "id": "80YmCCv7jFO6"
      },
      "execution_count": 83,
      "outputs": []
    },
    {
      "cell_type": "code",
      "source": [
        "X_print"
      ],
      "metadata": {
        "colab": {
          "base_uri": "https://localhost:8080/"
        },
        "id": "YTs8J8BxjLmI",
        "outputId": "6037c506-7483-45b8-fda9-fbd8827add17"
      },
      "execution_count": 84,
      "outputs": [
        {
          "output_type": "execute_result",
          "data": {
            "text/plain": [
              "array([[0, 0, 0, ..., 0, 0, 0],\n",
              "       [0, 0, 0, ..., 0, 0, 0],\n",
              "       [0, 0, 0, ..., 0, 0, 0],\n",
              "       ...,\n",
              "       [0, 0, 0, ..., 0, 0, 0],\n",
              "       [0, 0, 0, ..., 0, 0, 0],\n",
              "       [0, 0, 0, ..., 0, 0, 0]], dtype=uint8)"
            ]
          },
          "metadata": {},
          "execution_count": 84
        }
      ]
    },
    {
      "cell_type": "code",
      "source": [
        "X_print[1]"
      ],
      "metadata": {
        "colab": {
          "base_uri": "https://localhost:8080/"
        },
        "id": "OK37EkISjOEO",
        "outputId": "bcd40f4e-4eed-4472-a675-7ed2e8685ddd"
      },
      "execution_count": 85,
      "outputs": [
        {
          "output_type": "execute_result",
          "data": {
            "text/plain": [
              "array([  0,   0,   0,   0,   0,   0,   0,   0,   0,   0,   0,   0,   0,\n",
              "         0,   0,   0,   0,   0,   0,   0,   0,   0,   0,   0,   0,   0,\n",
              "         0,   0,   0,   0,   0,   0,   0,   0,   0,   0,   0,   0,   0,\n",
              "         0,   0,   0,   0,   0,   0,   0,   0,   0,   0,   0,   0,   0,\n",
              "         0,   0,   0,   0,   0,   0,   0,   0,   0,   0,   0,   0,   0,\n",
              "         0,   0,   0,   0,   0,   0,   0,   0,   0,   0,   0,   0,   0,\n",
              "         0,   0,   0,   0,   0,   0,   0,   0,   0,   0,   0,   0,   0,\n",
              "         0,   0,   0,   0,   0,   0,   0,   0,   0,   0,   0,   0,   0,\n",
              "         0,   0,   0,   0,   0,   0,   0,   0,   0,   0,   0,   0,   0,\n",
              "         0,   0,   0,   0,   0,   0,   0,   0,   0,   0,  51, 159, 253,\n",
              "       159,  50,   0,   0,   0,   0,   0,   0,   0,   0,   0,   0,   0,\n",
              "         0,   0,   0,   0,   0,   0,   0,   0,   0,   0,   0,  48, 238,\n",
              "       252, 252, 252, 237,   0,   0,   0,   0,   0,   0,   0,   0,   0,\n",
              "         0,   0,   0,   0,   0,   0,   0,   0,   0,   0,   0,   0,  54,\n",
              "       227, 253, 252, 239, 233, 252,  57,   6,   0,   0,   0,   0,   0,\n",
              "         0,   0,   0,   0,   0,   0,   0,   0,   0,   0,   0,   0,  10,\n",
              "        60, 224, 252, 253, 252, 202,  84, 252, 253, 122,   0,   0,   0,\n",
              "         0,   0,   0,   0,   0,   0,   0,   0,   0,   0,   0,   0,   0,\n",
              "         0, 163, 252, 252, 252, 253, 252, 252,  96, 189, 253, 167,   0,\n",
              "         0,   0,   0,   0,   0,   0,   0,   0,   0,   0,   0,   0,   0,\n",
              "         0,   0,  51, 238, 253, 253, 190, 114, 253, 228,  47,  79, 255,\n",
              "       168,   0,   0,   0,   0,   0,   0,   0,   0,   0,   0,   0,   0,\n",
              "         0,   0,   0,  48, 238, 252, 252, 179,  12,  75, 121,  21,   0,\n",
              "         0, 253, 243,  50,   0,   0,   0,   0,   0,   0,   0,   0,   0,\n",
              "         0,   0,   0,   0,  38, 165, 253, 233, 208,  84,   0,   0,   0,\n",
              "         0,   0,   0, 253, 252, 165,   0,   0,   0,   0,   0,   0,   0,\n",
              "         0,   0,   0,   0,   0,   7, 178, 252, 240,  71,  19,  28,   0,\n",
              "         0,   0,   0,   0,   0, 253, 252, 195,   0,   0,   0,   0,   0,\n",
              "         0,   0,   0,   0,   0,   0,   0,  57, 252, 252,  63,   0,   0,\n",
              "         0,   0,   0,   0,   0,   0,   0, 253, 252, 195,   0,   0,   0,\n",
              "         0,   0,   0,   0,   0,   0,   0,   0,   0, 198, 253, 190,   0,\n",
              "         0,   0,   0,   0,   0,   0,   0,   0,   0, 255, 253, 196,   0,\n",
              "         0,   0,   0,   0,   0,   0,   0,   0,   0,   0,  76, 246, 252,\n",
              "       112,   0,   0,   0,   0,   0,   0,   0,   0,   0,   0, 253, 252,\n",
              "       148,   0,   0,   0,   0,   0,   0,   0,   0,   0,   0,   0,  85,\n",
              "       252, 230,  25,   0,   0,   0,   0,   0,   0,   0,   0,   7, 135,\n",
              "       253, 186,  12,   0,   0,   0,   0,   0,   0,   0,   0,   0,   0,\n",
              "         0,  85, 252, 223,   0,   0,   0,   0,   0,   0,   0,   0,   7,\n",
              "       131, 252, 225,  71,   0,   0,   0,   0,   0,   0,   0,   0,   0,\n",
              "         0,   0,   0,  85, 252, 145,   0,   0,   0,   0,   0,   0,   0,\n",
              "        48, 165, 252, 173,   0,   0,   0,   0,   0,   0,   0,   0,   0,\n",
              "         0,   0,   0,   0,   0,  86, 253, 225,   0,   0,   0,   0,   0,\n",
              "         0, 114, 238, 253, 162,   0,   0,   0,   0,   0,   0,   0,   0,\n",
              "         0,   0,   0,   0,   0,   0,   0,  85, 252, 249, 146,  48,  29,\n",
              "        85, 178, 225, 253, 223, 167,  56,   0,   0,   0,   0,   0,   0,\n",
              "         0,   0,   0,   0,   0,   0,   0,   0,   0,  85, 252, 252, 252,\n",
              "       229, 215, 252, 252, 252, 196, 130,   0,   0,   0,   0,   0,   0,\n",
              "         0,   0,   0,   0,   0,   0,   0,   0,   0,   0,   0,  28, 199,\n",
              "       252, 252, 253, 252, 252, 233, 145,   0,   0,   0,   0,   0,   0,\n",
              "         0,   0,   0,   0,   0,   0,   0,   0,   0,   0,   0,   0,   0,\n",
              "         0,  25, 128, 252, 253, 252, 141,  37,   0,   0,   0,   0,   0,\n",
              "         0,   0,   0,   0,   0,   0,   0,   0,   0,   0,   0,   0,   0,\n",
              "         0,   0,   0,   0,   0,   0,   0,   0,   0,   0,   0,   0,   0,\n",
              "         0,   0,   0,   0,   0,   0,   0,   0,   0,   0,   0,   0,   0,\n",
              "         0,   0,   0,   0,   0,   0,   0,   0,   0,   0,   0,   0,   0,\n",
              "         0,   0,   0,   0,   0,   0,   0,   0,   0,   0,   0,   0,   0,\n",
              "         0,   0,   0,   0,   0,   0,   0,   0,   0,   0,   0,   0,   0,\n",
              "         0,   0,   0,   0,   0,   0,   0,   0,   0,   0,   0,   0,   0,\n",
              "         0,   0,   0,   0,   0,   0,   0,   0,   0,   0,   0,   0,   0,\n",
              "         0,   0,   0,   0,   0,   0,   0,   0,   0,   0,   0,   0,   0,\n",
              "         0,   0,   0,   0], dtype=uint8)"
            ]
          },
          "metadata": {},
          "execution_count": 85
        }
      ]
    },
    {
      "cell_type": "code",
      "source": [
        "sample_image=X_print[12].reshape((28,28))"
      ],
      "metadata": {
        "id": "QP23SR25jVyf"
      },
      "execution_count": 86,
      "outputs": []
    },
    {
      "cell_type": "code",
      "source": [
        "sample_image.shape"
      ],
      "metadata": {
        "colab": {
          "base_uri": "https://localhost:8080/"
        },
        "id": "azYughNUjZUw",
        "outputId": "19956b7f-e074-49f6-a0d3-900d96fd5063"
      },
      "execution_count": 87,
      "outputs": [
        {
          "output_type": "execute_result",
          "data": {
            "text/plain": [
              "(28, 28)"
            ]
          },
          "metadata": {},
          "execution_count": 87
        }
      ]
    },
    {
      "cell_type": "code",
      "source": [
        "plt.title('Label is {}' .format(y[12])) #label for graph\n",
        "plt.imshow(sample_image, cmap='gray') #creates the plot using sample_image as the image , cmap is a color map\n",
        "plt.show() #show the plot"
      ],
      "metadata": {
        "colab": {
          "base_uri": "https://localhost:8080/",
          "height": 452
        },
        "id": "LXpyR8TejdS9",
        "outputId": "051c553e-56c7-4825-f251-ca3b9c36256e"
      },
      "execution_count": 88,
      "outputs": [
        {
          "output_type": "display_data",
          "data": {
            "text/plain": [
              "<Figure size 640x480 with 1 Axes>"
            ],
            "image/png": "[encoded data removed]"
          },
          "metadata": {}
        }
      ]
    },
    {
      "cell_type": "code",
      "source": [
        "#scale data - there are 784 pixels - we will just divide each row by 784\n",
        "X=X/784"
      ],
      "metadata": {
        "id": "pXfF4ByOjiFv"
      },
      "execution_count": 89,
      "outputs": []
    },
    {
      "cell_type": "code",
      "source": [
        "#data frame to record results\n",
        "results = pd.DataFrame(columns=['neurons','layers','Train time','Train Accuracy ','Test Accuracy'])"
      ],
      "metadata": {
        "id": "35Tovq2wjluz"
      },
      "execution_count": 90,
      "outputs": []
    },
    {
      "cell_type": "code",
      "source": [
        "from sklearn.model_selection import train_test_split\n",
        "from sklearn import metrics\n",
        "X_train,X_test,y_train,y_test = train_test_split(X,y,test_size = .3,random_state = 31415)"
      ],
      "metadata": {
        "id": "bLNXER6njnOG"
      },
      "execution_count": 91,
      "outputs": []
    },
    {
      "cell_type": "code",
      "source": [
        "number=7\n",
        "size=20\n",
        "[size]*number"
      ],
      "metadata": {
        "colab": {
          "base_uri": "https://localhost:8080/"
        },
        "id": "EeiGQ_6_juii",
        "outputId": "153fb197-f45e-49f7-8b88-8670e84c5d1c"
      },
      "execution_count": 92,
      "outputs": [
        {
          "output_type": "execute_result",
          "data": {
            "text/plain": [
              "[20, 20, 20, 20, 20, 20, 20]"
            ]
          },
          "metadata": {},
          "execution_count": 92
        }
      ]
    },
    {
      "cell_type": "code",
      "source": [
        "for number in [3,5]:\n",
        "  for size in [10,20,30]:\n",
        "    st = time() #records current time\n",
        "    mlp = MLPClassifier(hidden_layer_sizes=[size]*number, max_iter=30, alpha=1e-4,\n",
        "                      solver='sgd', verbose=10, random_state=31415, learning_rate_init=.1,activation='relu')\n",
        "    warnings.filterwarnings(\"ignore\")\n",
        "    mlp.fit(X_train, y_train)\n",
        "    end = time() - st #returns time to run model\n",
        "    y_pred_test=mlp.predict(X_test)\n",
        "    y_pred_train=mlp.predict(X_train)\n",
        "    train_acc = metrics.accuracy_score(y_train,y_pred_train) # Train Accuracy\n",
        "    test_acc = metrics.accuracy_score(y_test,y_pred_test) # Test Accuracy\n",
        "    results.loc[1] = [size,number,end,train_acc,test_acc]\n",
        "\n",
        "### you can modify the code above to run two nested for loop on `size` and `number `"
      ],
      "metadata": {
        "colab": {
          "base_uri": "https://localhost:8080/"
        },
        "id": "tCKx8fPDqD3l",
        "outputId": "41274f3b-ce4c-47c7-ff4d-8506c8676fb1"
      },
      "execution_count": 93,
      "outputs": [
        {
          "output_type": "stream",
          "name": "stdout",
          "text": [
            "Iteration 1, loss = 0.88106167\n",
            "Iteration 2, loss = 0.31898138\n",
            "Iteration 3, loss = 0.26295139\n",
            "Iteration 4, loss = 0.24018523\n",
            "Iteration 5, loss = 0.22547192\n",
            "Iteration 6, loss = 0.21442963\n",
            "Iteration 7, loss = 0.20537021\n",
            "Iteration 8, loss = 0.19901373\n",
            "Iteration 9, loss = 0.19384044\n",
            "Iteration 10, loss = 0.19081708\n",
            "Iteration 11, loss = 0.18785331\n",
            "Iteration 12, loss = 0.18513354\n",
            "Iteration 13, loss = 0.18174818\n",
            "Iteration 14, loss = 0.18005934\n",
            "Iteration 15, loss = 0.17850912\n",
            "Iteration 16, loss = 0.17484930\n",
            "Iteration 17, loss = 0.17333749\n",
            "Iteration 18, loss = 0.17211516\n",
            "Iteration 19, loss = 0.17144942\n",
            "Iteration 20, loss = 0.17067407\n",
            "Iteration 21, loss = 0.16767140\n",
            "Iteration 22, loss = 0.16654122\n",
            "Iteration 23, loss = 0.16671271\n",
            "Iteration 24, loss = 0.16454513\n",
            "Iteration 25, loss = 0.16523487\n",
            "Iteration 26, loss = 0.16518584\n",
            "Iteration 27, loss = 0.16283892\n",
            "Iteration 28, loss = 0.16381873\n",
            "Iteration 29, loss = 0.16346791\n",
            "Iteration 30, loss = 0.16021473\n",
            "Iteration 1, loss = 0.65199060\n",
            "Iteration 2, loss = 0.21398954\n",
            "Iteration 3, loss = 0.16950689\n",
            "Iteration 4, loss = 0.14768244\n",
            "Iteration 5, loss = 0.13254979\n",
            "Iteration 6, loss = 0.12365671\n",
            "Iteration 7, loss = 0.11277736\n",
            "Iteration 8, loss = 0.10881191\n",
            "Iteration 9, loss = 0.10215666\n",
            "Iteration 10, loss = 0.09326197\n",
            "Iteration 11, loss = 0.09479979\n",
            "Iteration 12, loss = 0.08956404\n",
            "Iteration 13, loss = 0.08542781\n",
            "Iteration 14, loss = 0.08341874\n",
            "Iteration 15, loss = 0.07950127\n",
            "Iteration 16, loss = 0.07829308\n",
            "Iteration 17, loss = 0.07484636\n",
            "Iteration 18, loss = 0.07381063\n",
            "Iteration 19, loss = 0.07177828\n",
            "Iteration 20, loss = 0.06930359\n",
            "Iteration 21, loss = 0.06797684\n",
            "Iteration 22, loss = 0.06630801\n",
            "Iteration 23, loss = 0.06614766\n",
            "Iteration 24, loss = 0.06431258\n",
            "Iteration 25, loss = 0.06192758\n",
            "Iteration 26, loss = 0.06584536\n",
            "Iteration 27, loss = 0.05960158\n",
            "Iteration 28, loss = 0.05834534\n",
            "Iteration 29, loss = 0.05749420\n",
            "Iteration 30, loss = 0.05904182\n",
            "Iteration 1, loss = 0.53372899\n",
            "Iteration 2, loss = 0.18845356\n",
            "Iteration 3, loss = 0.14285570\n",
            "Iteration 4, loss = 0.12026123\n",
            "Iteration 5, loss = 0.10655710\n",
            "Iteration 6, loss = 0.09447260\n",
            "Iteration 7, loss = 0.08791188\n",
            "Iteration 8, loss = 0.07942538\n",
            "Iteration 9, loss = 0.07248713\n",
            "Iteration 10, loss = 0.07001368\n",
            "Iteration 11, loss = 0.06842045\n",
            "Iteration 12, loss = 0.05929652\n",
            "Iteration 13, loss = 0.05902045\n",
            "Iteration 14, loss = 0.05471054\n",
            "Iteration 15, loss = 0.05154942\n",
            "Iteration 16, loss = 0.04975763\n",
            "Iteration 17, loss = 0.04713394\n",
            "Iteration 18, loss = 0.04341260\n",
            "Iteration 19, loss = 0.04203802\n",
            "Iteration 20, loss = 0.04472446\n",
            "Iteration 21, loss = 0.04073042\n",
            "Iteration 22, loss = 0.03841610\n",
            "Iteration 23, loss = 0.03865939\n",
            "Iteration 24, loss = 0.03744877\n",
            "Iteration 25, loss = 0.03682400\n",
            "Iteration 26, loss = 0.03253199\n",
            "Iteration 27, loss = 0.03097445\n",
            "Iteration 28, loss = 0.03489601\n",
            "Iteration 29, loss = 0.03120821\n",
            "Iteration 30, loss = 0.03184716\n",
            "Iteration 1, loss = 1.34757090\n",
            "Iteration 2, loss = 0.47167240\n",
            "Iteration 3, loss = 0.36604325\n",
            "Iteration 4, loss = 0.31814743\n",
            "Iteration 5, loss = 0.28819724\n",
            "Iteration 6, loss = 0.27267294\n",
            "Iteration 7, loss = 0.25831697\n",
            "Iteration 8, loss = 0.24568485\n",
            "Iteration 9, loss = 0.23409209\n",
            "Iteration 10, loss = 0.22673045\n",
            "Iteration 11, loss = 0.21983846\n",
            "Iteration 12, loss = 0.21611282\n",
            "Iteration 13, loss = 0.21013720\n",
            "Iteration 14, loss = 0.20598779\n",
            "Iteration 15, loss = 0.20256484\n",
            "Iteration 16, loss = 0.19860524\n",
            "Iteration 17, loss = 0.19512096\n",
            "Iteration 18, loss = 0.19145324\n",
            "Iteration 19, loss = 0.19030685\n",
            "Iteration 20, loss = 0.18491470\n",
            "Iteration 21, loss = 0.18695981\n",
            "Iteration 22, loss = 0.18167602\n",
            "Iteration 23, loss = 0.17845467\n",
            "Iteration 24, loss = 0.17502750\n",
            "Iteration 25, loss = 0.17623064\n",
            "Iteration 26, loss = 0.17441051\n",
            "Iteration 27, loss = 0.17353419\n",
            "Iteration 28, loss = 0.17030047\n",
            "Iteration 29, loss = 0.17007642\n",
            "Iteration 30, loss = 0.17124525\n",
            "Iteration 1, loss = 0.83915782\n",
            "Iteration 2, loss = 0.24588988\n",
            "Iteration 3, loss = 0.19271873\n",
            "Iteration 4, loss = 0.16467036\n",
            "Iteration 5, loss = 0.15142949\n",
            "Iteration 6, loss = 0.13776349\n",
            "Iteration 7, loss = 0.12792345\n",
            "Iteration 8, loss = 0.11995511\n",
            "Iteration 9, loss = 0.11815805\n",
            "Iteration 10, loss = 0.11048937\n",
            "Iteration 11, loss = 0.10542034\n",
            "Iteration 12, loss = 0.10085877\n",
            "Iteration 13, loss = 0.09870097\n",
            "Iteration 14, loss = 0.09430281\n",
            "Iteration 15, loss = 0.09177165\n",
            "Iteration 16, loss = 0.08714270\n",
            "Iteration 17, loss = 0.08673366\n",
            "Iteration 18, loss = 0.08292151\n",
            "Iteration 19, loss = 0.08385796\n",
            "Iteration 20, loss = 0.08003135\n",
            "Iteration 21, loss = 0.07980688\n",
            "Iteration 22, loss = 0.07541569\n",
            "Iteration 23, loss = 0.07771727\n",
            "Iteration 24, loss = 0.07373854\n",
            "Iteration 25, loss = 0.07206236\n",
            "Iteration 26, loss = 0.07278050\n",
            "Iteration 27, loss = 0.06818627\n",
            "Iteration 28, loss = 0.06885227\n",
            "Iteration 29, loss = 0.06597123\n",
            "Iteration 30, loss = 0.06613981\n",
            "Iteration 1, loss = 0.91636242\n",
            "Iteration 2, loss = 0.22416231\n",
            "Iteration 3, loss = 0.17254305\n",
            "Iteration 4, loss = 0.14311670\n",
            "Iteration 5, loss = 0.12834225\n",
            "Iteration 6, loss = 0.11730383\n",
            "Iteration 7, loss = 0.10974631\n",
            "Iteration 8, loss = 0.09788921\n",
            "Iteration 9, loss = 0.09474468\n",
            "Iteration 10, loss = 0.08963112\n",
            "Iteration 11, loss = 0.08666008\n",
            "Iteration 12, loss = 0.08010579\n",
            "Iteration 13, loss = 0.07485204\n",
            "Iteration 14, loss = 0.07150010\n",
            "Iteration 15, loss = 0.07084806\n",
            "Iteration 16, loss = 0.06718169\n",
            "Iteration 17, loss = 0.06430494\n",
            "Iteration 18, loss = 0.06278603\n",
            "Iteration 19, loss = 0.05973505\n",
            "Iteration 20, loss = 0.05568143\n",
            "Iteration 21, loss = 0.05419364\n",
            "Iteration 22, loss = 0.05430021\n",
            "Iteration 23, loss = 0.05002243\n",
            "Iteration 24, loss = 0.04776979\n",
            "Iteration 25, loss = 0.05145907\n",
            "Iteration 26, loss = 0.04799384\n",
            "Iteration 27, loss = 0.04618699\n",
            "Iteration 28, loss = 0.04648662\n",
            "Iteration 29, loss = 0.04668633\n",
            "Iteration 30, loss = 0.04360250\n"
          ]
        }
      ]
    },
    {
      "cell_type": "code",
      "source": [
        "results"
      ],
      "metadata": {
        "colab": {
          "base_uri": "https://localhost:8080/",
          "height": 89
        },
        "id": "3OLD5xZ1j3Xb",
        "outputId": "4c0b5560-5769-4766-84a6-50ca16d7f283"
      },
      "execution_count": 94,
      "outputs": [
        {
          "output_type": "execute_result",
          "data": {
            "text/plain": [
              "   neurons  layers  Train time  Train Accuracy   Test Accuracy\n",
              "1     30.0     5.0   55.718515          0.98898       0.965476"
            ],
            "text/html": [
              "\n",
              "  <div id=\"df-bb9d52a3-9fe3-4fde-bff3-e5ca014bc065\" class=\"colab-df-container\">\n",
              "    <div>\n",
              "<style scoped>\n",
              "    .dataframe tbody tr th:only-of-type {\n",
              "        vertical-align: middle;\n",
              "    }\n",
              "\n",
              "    .dataframe tbody tr th {\n",
              "        vertical-align: top;\n",
              "    }\n",
              "\n",
              "    .dataframe thead th {\n",
              "        text-align: right;\n",
              "    }\n",
              "</style>\n",
              "<table border=\"1\" class=\"dataframe\">\n",
              "  <thead>\n",
              "    <tr style=\"text-align: right;\">\n",
              "      <th></th>\n",
              "      <th>neurons</th>\n",
              "      <th>layers</th>\n",
              "      <th>Train time</th>\n",
              "      <th>Train Accuracy</th>\n",
              "      <th>Test Accuracy</th>\n",
              "    </tr>\n",
              "  </thead>\n",
              "  <tbody>\n",
              "    <tr>\n",
              "      <th>1</th>\n",
              "      <td>30.0</td>\n",
              "      <td>5.0</td>\n",
              "      <td>55.718515</td>\n",
              "      <td>0.98898</td>\n",
              "      <td>0.965476</td>\n",
              "    </tr>\n",
              "  </tbody>\n",
              "</table>\n",
              "</div>\n",
              "    <div class=\"colab-df-buttons\">\n",
              "\n",
              "  <div class=\"colab-df-container\">\n",
              "    <button class=\"colab-df-convert\" onclick=\"convertToInteractive('df-bb9d52a3-9fe3-4fde-bff3-e5ca014bc065')\"\n",
              "            title=\"Convert this dataframe to an interactive table.\"\n",
              "            style=\"display:none;\">\n",
              "\n",
              "  <svg xmlns=\"http://www.w3.org/2000/svg\" height=\"24px\" viewBox=\"0 -960 960 960\">\n",
              "    <path d=\"M120-120v-720h720v720H120Zm60-500h600v-160H180v160Zm220 220h160v-160H400v160Zm0 220h160v-160H400v160ZM180-400h160v-160H180v160Zm440 0h160v-160H620v160ZM180-180h160v-160H180v160Zm440 0h160v-160H620v160Z\"/>\n",
              "  </svg>\n",
              "    </button>\n",
              "\n",
              "  <style>\n",
              "    .colab-df-container {\n",
              "      display:flex;\n",
              "      gap: 12px;\n",
              "    }\n",
              "\n",
              "    .colab-df-convert {\n",
              "      background-color: #E8F0FE;\n",
              "      border: none;\n",
              "      border-radius: 50%;\n",
              "      cursor: pointer;\n",
              "      display: none;\n",
              "      fill: #1967D2;\n",
              "      height: 32px;\n",
              "      padding: 0 0 0 0;\n",
              "      width: 32px;\n",
              "    }\n",
              "\n",
              "    .colab-df-convert:hover {\n",
              "      background-color: #E2EBFA;\n",
              "      box-shadow: 0px 1px 2px rgba(60, 64, 67, 0.3), 0px 1px 3px 1px rgba(60, 64, 67, 0.15);\n",
              "      fill: #174EA6;\n",
              "    }\n",
              "\n",
              "    .colab-df-buttons div {\n",
              "      margin-bottom: 4px;\n",
              "    }\n",
              "\n",
              "    [theme=dark] .colab-df-convert {\n",
              "      background-color: #3B4455;\n",
              "      fill: #D2E3FC;\n",
              "    }\n",
              "\n",
              "    [theme=dark] .colab-df-convert:hover {\n",
              "      background-color: #434B5C;\n",
              "      box-shadow: 0px 1px 3px 1px rgba(0, 0, 0, 0.15);\n",
              "      filter: drop-shadow(0px 1px 2px rgba(0, 0, 0, 0.3));\n",
              "      fill: #FFFFFF;\n",
              "    }\n",
              "  </style>\n",
              "\n",
              "    <script>\n",
              "      const buttonEl =\n",
              "        document.querySelector('#df-bb9d52a3-9fe3-4fde-bff3-e5ca014bc065 button.colab-df-convert');\n",
              "      buttonEl.style.display =\n",
              "        google.colab.kernel.accessAllowed ? 'block' : 'none';\n",
              "\n",
              "      async function convertToInteractive(key) {\n",
              "        const element = document.querySelector('#df-bb9d52a3-9fe3-4fde-bff3-e5ca014bc065');\n",
              "        const dataTable =\n",
              "          await google.colab.kernel.invokeFunction('convertToInteractive',\n",
              "                                                    [key], {});\n",
              "        if (!dataTable) return;\n",
              "\n",
              "        const docLinkHtml = 'Like what you see? Visit the ' +\n",
              "          '<a target=\"_blank\" href=https://colab.research.google.com/notebooks/data_table.ipynb>data table notebook</a>'\n",
              "          + ' to learn more about interactive tables.';\n",
              "        element.innerHTML = '';\n",
              "        dataTable['output_type'] = 'display_data';\n",
              "        await google.colab.output.renderOutput(dataTable, element);\n",
              "        const docLink = document.createElement('div');\n",
              "        docLink.innerHTML = docLinkHtml;\n",
              "        element.appendChild(docLink);\n",
              "      }\n",
              "    </script>\n",
              "  </div>\n",
              "\n",
              "\n",
              "  <div id=\"id_bb615a40-ce5d-4190-befd-a4673487b0d3\">\n",
              "    <style>\n",
              "      .colab-df-generate {\n",
              "        background-color: #E8F0FE;\n",
              "        border: none;\n",
              "        border-radius: 50%;\n",
              "        cursor: pointer;\n",
              "        display: none;\n",
              "        fill: #1967D2;\n",
              "        height: 32px;\n",
              "        padding: 0 0 0 0;\n",
              "        width: 32px;\n",
              "      }\n",
              "\n",
              "      .colab-df-generate:hover {\n",
              "        background-color: #E2EBFA;\n",
              "        box-shadow: 0px 1px 2px rgba(60, 64, 67, 0.3), 0px 1px 3px 1px rgba(60, 64, 67, 0.15);\n",
              "        fill: #174EA6;\n",
              "      }\n",
              "\n",
              "      [theme=dark] .colab-df-generate {\n",
              "        background-color: #3B4455;\n",
              "        fill: #D2E3FC;\n",
              "      }\n",
              "\n",
              "      [theme=dark] .colab-df-generate:hover {\n",
              "        background-color: #434B5C;\n",
              "        box-shadow: 0px 1px 3px 1px rgba(0, 0, 0, 0.15);\n",
              "        filter: drop-shadow(0px 1px 2px rgba(0, 0, 0, 0.3));\n",
              "        fill: #FFFFFF;\n",
              "      }\n",
              "    </style>\n",
              "    <button class=\"colab-df-generate\" onclick=\"generateWithVariable('results')\"\n",
              "            title=\"Generate code using this dataframe.\"\n",
              "            style=\"display:none;\">\n",
              "\n",
              "  <svg xmlns=\"http://www.w3.org/2000/svg\" height=\"24px\"viewBox=\"0 0 24 24\"\n",
              "       width=\"24px\">\n",
              "    <path d=\"M7,19H8.4L18.45,9,17,7.55,7,17.6ZM5,21V16.75L18.45,3.32a2,2,0,0,1,2.83,0l1.4,1.43a1.91,1.91,0,0,1,.58,1.4,1.91,1.91,0,0,1-.58,1.4L9.25,21ZM18.45,9,17,7.55Zm-12,3A5.31,5.31,0,0,0,4.9,8.1,5.31,5.31,0,0,0,1,6.5,5.31,5.31,0,0,0,4.9,4.9,5.31,5.31,0,0,0,6.5,1,5.31,5.31,0,0,0,8.1,4.9,5.31,5.31,0,0,0,12,6.5,5.46,5.46,0,0,0,6.5,12Z\"/>\n",
              "  </svg>\n",
              "    </button>\n",
              "    <script>\n",
              "      (() => {\n",
              "      const buttonEl =\n",
              "        document.querySelector('#id_bb615a40-ce5d-4190-befd-a4673487b0d3 button.colab-df-generate');\n",
              "      buttonEl.style.display =\n",
              "        google.colab.kernel.accessAllowed ? 'block' : 'none';\n",
              "\n",
              "      buttonEl.onclick = () => {\n",
              "        google.colab.notebook.generateWithVariable('results');\n",
              "      }\n",
              "      })();\n",
              "    </script>\n",
              "  </div>\n",
              "\n",
              "    </div>\n",
              "  </div>\n"
            ],
            "application/vnd.google.colaboratory.intrinsic+json": {
              "type": "dataframe",
              "variable_name": "results",
              "summary": "{\n  \"name\": \"results\",\n  \"rows\": 1,\n  \"fields\": [\n    {\n      \"column\": \"neurons\",\n      \"properties\": {\n        \"dtype\": \"number\",\n        \"std\": null,\n        \"min\": 30.0,\n        \"max\": 30.0,\n        \"num_unique_values\": 1,\n        \"samples\": [\n          30.0\n        ],\n        \"semantic_type\": \"\",\n        \"description\": \"\"\n      }\n    },\n    {\n      \"column\": \"layers\",\n      \"properties\": {\n        \"dtype\": \"number\",\n        \"std\": null,\n        \"min\": 5.0,\n        \"max\": 5.0,\n        \"num_unique_values\": 1,\n        \"samples\": [\n          5.0\n        ],\n        \"semantic_type\": \"\",\n        \"description\": \"\"\n      }\n    },\n    {\n      \"column\": \"Train time\",\n      \"properties\": {\n        \"dtype\": \"number\",\n        \"std\": null,\n        \"min\": 55.718515396118164,\n        \"max\": 55.718515396118164,\n        \"num_unique_values\": 1,\n        \"samples\": [\n          55.718515396118164\n        ],\n        \"semantic_type\": \"\",\n        \"description\": \"\"\n      }\n    },\n    {\n      \"column\": \"Train Accuracy \",\n      \"properties\": {\n        \"dtype\": \"number\",\n        \"std\": null,\n        \"min\": 0.9889795918367347,\n        \"max\": 0.9889795918367347,\n        \"num_unique_values\": 1,\n        \"samples\": [\n          0.9889795918367347\n        ],\n        \"semantic_type\": \"\",\n        \"description\": \"\"\n      }\n    },\n    {\n      \"column\": \"Test Accuracy\",\n      \"properties\": {\n        \"dtype\": \"number\",\n        \"std\": null,\n        \"min\": 0.9654761904761905,\n        \"max\": 0.9654761904761905,\n        \"num_unique_values\": 1,\n        \"samples\": [\n          0.9654761904761905\n        ],\n        \"semantic_type\": \"\",\n        \"description\": \"\"\n      }\n    }\n  ]\n}"
            }
          },
          "metadata": {},
          "execution_count": 94
        }
      ]
    },
    {
      "cell_type": "markdown",
      "source": [
        "Multi-Layer Perceptrons\n",
        "The Mnist dataset consists of 28 × 28 images of all 10 digits. You will need to flatten each digit into a 784-element array in order to use the data to train MLP models.\n",
        "\n",
        "Starting by building and training a MLPClassifier model from sklearn.neural_network.\n",
        "\n",
        "Experiment with the numbers of hidden layers (e.g. between 1 and 4 hidden layers) and the numbers of neurons in each layer. How do the training time and prediction accuracy of the model change with the different model architectures. Now build MLP models with the exact same architectures using tensorflow. tensorflow.keras contains several easy to use wrappers for building and training neural networks. You should focus on tensorflow.keras.Sequential for the model object and tensorflow.keras.layers.Dense for each layer object.\n",
        "\n",
        "Hint: You can use the .summary() method on tensorflow model objects to see the model architecture.\n",
        "\n",
        "How do the tensorflow models compare against the sklearn models? See if you can leverage a GPU in the Colab notebook. Does a GPU help with this model on this data? If so, what changes have you noticed?"
      ],
      "metadata": {
        "id": "M_YTXGwqldiF"
      }
    },
    {
      "cell_type": "markdown",
      "source": [
        "Convolutional Models\n",
        "Image data can be much better analyzed with Convolutional Networks. Since convolutional layers directly work with images, you will have to present the images from Mnist in the original 28 × 28 shape. Build a convolutional model using tensorflow. You will want to use the tensorflow.keras.ayers.Conv2d class to build each convolutional layer. If you decide to use multiple convolutional layers (which we recommend), you will also need to use a Pooling layer. Experiment with the MaxPool2D and AveragePooling2D layers and see how they change the architecture and perform in training."
      ],
      "metadata": {
        "id": "5CtghAPKlvc7"
      }
    },
    {
      "cell_type": "code",
      "source": [
        "import tensorflow as tf\n",
        "from tensorflow.keras import datasets, layers, models"
      ],
      "metadata": {
        "id": "vLA8ats0k9gv"
      },
      "execution_count": 95,
      "outputs": []
    },
    {
      "cell_type": "code",
      "source": [
        "#the original downloaded MNIST set might give you trouble for the remaining code. If so, download it using\n",
        "mnist = tf.keras.datasets.mnist\n",
        "# instead"
      ],
      "metadata": {
        "id": "C4Wp08IEkHp1"
      },
      "execution_count": 96,
      "outputs": []
    },
    {
      "cell_type": "code",
      "source": [
        "#research what the parameters of the model are\n",
        "#what do `activation` and `input_shape` do?\n",
        "#what is the difference between `Conv2D` and `MaxPooling 2d` ?\n",
        "model = models.Sequential()\n",
        "model.add(layers.Conv2D(32, (3, 3), activation='relu', input_shape=(28,28,1)))\n",
        "model.add(layers.MaxPooling2D((2, 2)))\n",
        "model.add(layers.Conv2D(64, (3, 3), activation='relu'))\n",
        "model.add(layers.MaxPooling2D((2, 2)))\n",
        "model.add(layers.Conv2D(64, (3, 3), activation='relu'))"
      ],
      "metadata": {
        "id": "4xfLG14DlF2u"
      },
      "execution_count": 97,
      "outputs": []
    },
    {
      "cell_type": "markdown",
      "source": [
        "input_shape here sets the dimensions of the images being modeled, which could be very large if we wanted a high-resolution image, but that would take a lot of computing power. Activiation determines what type of model you use. It could be relu, sigmoid, or maybe another type, but relu seems pretty effective. Conv2D is sort of used to calculated the value of each node in the neural network while maxpooling2D finds the maximal nodal value and filters to only that."
      ],
      "metadata": {
        "id": "BiMCCCpZs-dW"
      }
    },
    {
      "cell_type": "code",
      "source": [
        "model.add(layers.Flatten())\n",
        "model.add(layers.Dense(64, activation='relu'))\n",
        "model.add(layers.Dense(10))"
      ],
      "metadata": {
        "id": "T4JJMeSClGNa"
      },
      "execution_count": 98,
      "outputs": []
    },
    {
      "cell_type": "code",
      "source": [
        "#build the model\n",
        "model.compile(optimizer='adam',\n",
        "              loss=tf.keras.losses.SparseCategoricalCrossentropy(from_logits=True),\n",
        "              metrics=['accuracy'],run_eagerly=True)"
      ],
      "metadata": {
        "id": "CoBIcOSelNxc"
      },
      "execution_count": 110,
      "outputs": []
    },
    {
      "cell_type": "code",
      "source": [
        "(A_train, b_train), (A_test, b_test) = mnist.load_data()"
      ],
      "metadata": {
        "id": "-evlVJhBjd8X"
      },
      "execution_count": 111,
      "outputs": []
    },
    {
      "cell_type": "code",
      "source": [
        "#run the model\n",
        "E=10 # this is the number of times the data is ran throught the model. This runs SLOOOOOOOW\n",
        "history = model.fit(A_train,b_train, epochs=E,\n",
        "                    validation_data=(A_test, b_test))"
      ],
      "metadata": {
        "colab": {
          "base_uri": "https://localhost:8080/"
        },
        "id": "AYA6wzE7lOJy",
        "outputId": "7dabdef5-9ba6-4f92-c1c7-8f2d6e053736"
      },
      "execution_count": 112,
      "outputs": [
        {
          "output_type": "stream",
          "name": "stdout",
          "text": [
            "Epoch 1/10\n",
            "1875/1875 [==============================] - 148s 79ms/step - loss: 0.1967 - accuracy: 0.9493 - val_loss: 0.0646 - val_accuracy: 0.9796\n",
            "Epoch 2/10\n",
            "1875/1875 [==============================] - 148s 79ms/step - loss: 0.0669 - accuracy: 0.9800 - val_loss: 0.0515 - val_accuracy: 0.9838\n",
            "Epoch 3/10\n",
            "1875/1875 [==============================] - 145s 78ms/step - loss: 0.0485 - accuracy: 0.9852 - val_loss: 0.0612 - val_accuracy: 0.9823\n",
            "Epoch 4/10\n",
            "1875/1875 [==============================] - 148s 79ms/step - loss: 0.0433 - accuracy: 0.9868 - val_loss: 0.0430 - val_accuracy: 0.9869\n",
            "Epoch 5/10\n",
            "1875/1875 [==============================] - 148s 79ms/step - loss: 0.0371 - accuracy: 0.9886 - val_loss: 0.0387 - val_accuracy: 0.9886\n",
            "Epoch 6/10\n",
            "1875/1875 [==============================] - 145s 77ms/step - loss: 0.0293 - accuracy: 0.9909 - val_loss: 0.0494 - val_accuracy: 0.9854\n",
            "Epoch 7/10\n",
            "1875/1875 [==============================] - 144s 77ms/step - loss: 0.0282 - accuracy: 0.9912 - val_loss: 0.0484 - val_accuracy: 0.9881\n",
            "Epoch 8/10\n",
            "1875/1875 [==============================] - 148s 79ms/step - loss: 0.0258 - accuracy: 0.9924 - val_loss: 0.0545 - val_accuracy: 0.9883\n",
            "Epoch 9/10\n",
            "1875/1875 [==============================] - 145s 77ms/step - loss: 0.0233 - accuracy: 0.9931 - val_loss: 0.0579 - val_accuracy: 0.9871\n",
            "Epoch 10/10\n",
            "1875/1875 [==============================] - 144s 77ms/step - loss: 0.0229 - accuracy: 0.9930 - val_loss: 0.0525 - val_accuracy: 0.9877\n"
          ]
        }
      ]
    },
    {
      "cell_type": "code",
      "source": [
        "### plot of results\n",
        "pd.DataFrame(history.history).plot(figsize=(8, 5), style=[\"r--\", \"r--.\",\"b-\",\"b-*\"])\n",
        "plt.grid(True)\n",
        "plt.gca().set_ylim(0, 1)\n",
        "plt.show()\n",
        "\n",
        "### create another plot to zoom in look for sign of overfitting"
      ],
      "metadata": {
        "id": "nX5vp8nplOkz",
        "colab": {
          "base_uri": "https://localhost:8080/",
          "height": 451
        },
        "outputId": "f4715b47-866e-4b41-9400-c3a215921d19"
      },
      "execution_count": 113,
      "outputs": [
        {
          "output_type": "display_data",
          "data": {
            "text/plain": [
              "<Figure size 800x500 with 1 Axes>"
            ],
            "image/png": "[encoded data removed]"
          },
          "metadata": {}
        }
      ]
    },
    {
      "cell_type": "code",
      "source": [
        "pd.DataFrame(history.history).plot(figsize=(8, 5), style=[\"r--\", \"r--.\",\"b-\",\"b-*\"])\n",
        "plt.grid(True)\n",
        "plt.gca().set_ylim(0.95, 1)\n",
        "plt.show()"
      ],
      "metadata": {
        "colab": {
          "base_uri": "https://localhost:8080/",
          "height": 451
        },
        "id": "9Ke_RvK0rXt2",
        "outputId": "25b1dec9-6fce-46aa-e990-319f22986f8c"
      },
      "execution_count": 114,
      "outputs": [
        {
          "output_type": "display_data",
          "data": {
            "text/plain": [
              "<Figure size 800x500 with 1 Axes>"
            ],
            "image/png": "[encoded data removed]"
          },
          "metadata": {}
        }
      ]
    },
    {
      "cell_type": "code",
      "source": [
        "pd.DataFrame(history.history).plot(figsize=(8, 5), style=[\"r--\", \"r--.\",\"b-\",\"b-*\"])\n",
        "plt.grid(True)\n",
        "plt.gca().set_ylim(0, 0.1)\n",
        "plt.show()"
      ],
      "metadata": {
        "colab": {
          "base_uri": "https://localhost:8080/",
          "height": 451
        },
        "id": "m6zNHKIMrr_I",
        "outputId": "be0552fc-c7d1-4779-8831-b25f08993711"
      },
      "execution_count": 115,
      "outputs": [
        {
          "output_type": "display_data",
          "data": {
            "text/plain": [
              "<Figure size 800x500 with 1 Axes>"
            ],
            "image/png": "[encoded data removed]"
          },
          "metadata": {}
        }
      ]
    },
    {
      "cell_type": "markdown",
      "source": [
        "Here we can see that val accuracy is highest at 4 while val loss is lowest at 4. Which seems to indicate that 5 epochs (counting starts at 0 on the first epoch) is the best fit for the model and anything beyond that gives an overfitted model."
      ],
      "metadata": {
        "id": "mw5jFWa7xJYC"
      }
    }
  ]
}